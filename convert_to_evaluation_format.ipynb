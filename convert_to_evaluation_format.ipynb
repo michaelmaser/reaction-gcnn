{
 "cells": [
  {
   "cell_type": "code",
   "execution_count": 1,
   "metadata": {},
   "outputs": [
    {
     "name": "stdout",
     "output_type": "stream",
     "text": [
      "/home\n"
     ]
    },
    {
     "name": "stderr",
     "output_type": "stream",
     "text": [
      "/home/ubuntu/anaconda3/envs/chainer_p36/lib/python3.6/site-packages/chainer/_environment_check.py:91: UserWarning: \n",
      "--------------------------------------------------------------------------------\n",
      "Multiple installations of CuPy package has been detected.\n",
      "You should select only one package from from ['cupy-cuda102', 'cupy-cuda101', 'cupy-cuda100', 'cupy-cuda92', 'cupy-cuda91', 'cupy-cuda90', 'cupy-cuda80', 'cupy'].\n",
      "Follow these steps to resolve this issue:\n",
      "  1. `pip list` to list CuPy packages installed\n",
      "  2. `pip uninstall <package name>` to uninstall all CuPy packages\n",
      "  3. `pip install <package name>` to install the proper one\n",
      "--------------------------------------------------------------------------------\n",
      "\n",
      "  '''.format(name=name, pkgs=pkgs))\n"
     ]
    }
   ],
   "source": [
    "import pickle\n",
    "import matplotlib.pyplot as plt\n",
    "import numpy as np\n",
    "\n",
    "import xlrd\n",
    "import csv\n",
    "import pandas as pd\n",
    "import json\n",
    "import os\n",
    "import predict"
   ]
  },
  {
   "cell_type": "code",
   "execution_count": 2,
   "metadata": {},
   "outputs": [],
   "source": [
    "def get_best_epoch(output_dir, log_filename='log'):\n",
    "    best_epoch = None\n",
    "    best_val_accuracy = None\n",
    "    logs = json.load(open(os.path.join(output_dir, log_filename)))\n",
    "    for log in logs:\n",
    "        val_accuracy = log['validation/main/accuracy']\n",
    "        if best_epoch is None or val_accuracy > best_val_accuracy:\n",
    "            best_epoch = log['epoch']\n",
    "            best_val_accuracy = val_accuracy\n",
    "    return best_epoch"
   ]
  },
  {
   "cell_type": "markdown",
   "metadata": {},
   "source": [
    "# SUZUKI"
   ]
  },
  {
   "cell_type": "code",
   "execution_count": 35,
   "metadata": {},
   "outputs": [],
   "source": [
    "# Load prediction\n",
    "model_name = 'mpnn'\n",
    "output_name = model_name + '_output_'"
   ]
  },
  {
   "cell_type": "code",
   "execution_count": 36,
   "metadata": {},
   "outputs": [],
   "source": [
    "from train import GraphConvPredictor"
   ]
  },
  {
   "cell_type": "code",
   "execution_count": 37,
   "metadata": {},
   "outputs": [
    {
     "name": "stderr",
     "output_type": "stream",
     "text": [
      "  1%|          | 23/3651 [00:00<00:16, 220.52it/s]"
     ]
    },
    {
     "name": "stdout",
     "output_type": "stream",
     "text": [
      "Preprocessing dataset...\n"
     ]
    },
    {
     "name": "stderr",
     "output_type": "stream",
     "text": [
      " 29%|██▉       | 1075/3651 [00:04<00:11, 223.69it/s]RDKit ERROR: [12:22:46] Explicit valence for atom # 11 B, 4, is greater than permitted\n",
      "100%|██████████| 3651/3651 [00:14<00:00, 243.60it/s]\n"
     ]
    },
    {
     "name": "stdout",
     "output_type": "stream",
     "text": [
      "Predicting...\n",
      "      y_pred_[[0. 0. 0. 0. 0. 0. 0. 0. 0. 0. 0. 0. 0. 0. 0. 0. 0. 0. 0. 0. 0. 0. 0. 0.\\n  0. 0. 0. 0. 0. 0. 0. 0. 0. 0. 0. 0. 0. 0. 0. 0. 0. 0. 0. 0. 0. 0. 0. 0.\\n  0. 0. 0. 0. 0. 0. 0. 0. 0. 0. 0. 0. 0. 0. 0. 0. 0. 0. 0. 0. 0. 0. 0. 0.\\n  0. 0. 0. 0. 0. 0. 0. 0. 0. 0. 0. 0. 0. 0. 0. 0. 0. 0. 0. 0. 0. 1. 0. 0.\\n  0. 0. 0. 0. 0. 0. 0. 0. 0. 1. 0. 0. 0. 0. 0. 0. 0. 0. 0. 0. 0. 0. 0. 0.\\n  0. 0. 0. 0. 0. 0. 0. 0. 0. 0. 0. 0. 0. 0. 0. 0. 0. 0. 0. 0. 0. 0. 0. 0.\\n  0. 0. 0. 0. 0. 0. 0. 0. 0. 0. 0. 0. 0. 0. 0. 0. 0. 0. 0. 0. 0. 0. 0. 0.\\n  0. 0. 0. 0. 0. 0. 0. 0. 0. 0. 0. 0. 0. 0. 0. 0. 0. 0. 0. 0. 0. 0. 0. 0.\\n  0. 0. 0. 0. 0. 0. 0. 0. 0. 1. 1. 0. 0. 1.]]  \\\n",
      "2191                                                205                                                                                                                                                                                                                                                                                                                                                                                                                                                                                                                                                                                                                              \n",
      "1537                                                205                                                                                                                                                                                                                                                                                                                                                                                                                                                                                                                                                                                                                              \n",
      "306                                                 205                                                                                                                                                                                                                                                                                                                                                                                                                                                                                                                                                                                                                              \n",
      "2511                                                205                                                                                                                                                                                                                                                                                                                                                                                                                                                                                                                                                                                                                              \n",
      "2680                                                205                                                                                                                                                                                                                                                                                                                                                                                                                                                                                                                                                                                                                              \n",
      "\n",
      "      t_[[0. 0. 0. 0. 0. 0. 0. 0. 0. 0. 0. 0. 0. 0. 0. 0. 0. 0. 0. 0. 0. 0. 0. 0.\\n  0. 0. 0. 0. 0. 0. 0. 0. 0. 0. 0. 0. 0. 0. 0. 0. 0. 0. 0. 0. 0. 0. 0. 0.\\n  0. 0. 0. 0. 0. 0. 0. 0. 0. 0. 0. 0. 0. 0. 0. 0. 0. 0. 0. 0. 0. 0. 0. 0.\\n  0. 0. 0. 0. 0. 0. 0. 0. 0. 0. 0. 0. 0. 0. 0. 0. 0. 0. 0. 0. 0. 1. 0. 0.\\n  0. 0. 0. 0. 0. 0. 0. 0. 0. 1. 0. 0. 0. 0. 0. 0. 0. 0. 0. 0. 0. 0. 0. 0.\\n  0. 0. 0. 0. 0. 0. 0. 0. 0. 0. 0. 0. 0. 0. 0. 0. 0. 0. 0. 0. 0. 0. 0. 0.\\n  0. 0. 0. 0. 0. 0. 0. 0. 0. 0. 0. 0. 0. 0. 0. 0. 0. 0. 0. 0. 0. 0. 0. 0.\\n  0. 0. 0. 0. 0. 0. 0. 0. 0. 0. 0. 0. 0. 0. 0. 0. 0. 0. 0. 0. 0. 0. 0. 0.\\n  0. 0. 0. 0. 0. 0. 0. 0. 0. 1. 1. 0. 0. 1.]]  \n",
      "2191                                                 77                                                                                                                                                                                                                                                                                                                                                                                                                                                                                                                                                                                                                        \n",
      "1537                                                205                                                                                                                                                                                                                                                                                                                                                                                                                                                                                                                                                                                                                        \n",
      "306                                                 205                                                                                                                                                                                                                                                                                                                                                                                                                                                                                                                                                                                                                        \n",
      "2511                                                205                                                                                                                                                                                                                                                                                                                                                                                                                                                                                                                                                                                                                        \n",
      "2680                                                205                                                                                                                                                                                                                                                                                                                                                                                                                                                                                                                                                                                                                        \n",
      "label_name = [0. 0. 0. 0. 0. 0. 0. 0. 0. 0. 0. 0. 0. 0. 0. 0. 0. 0. 0. 0. 0. 0. 0. 0.\n",
      " 0. 0. 0. 0. 0. 0. 0. 0. 0. 0. 0. 0. 0. 0. 0. 0. 0. 0. 0. 0. 0. 0. 0. 0.\n",
      " 0. 0. 0. 0. 0. 0. 0. 0. 0. 0. 0. 0. 0. 0. 0. 0. 0. 0. 0. 0. 0. 0. 0. 0.\n",
      " 0. 0. 0. 0. 0. 0. 0. 0. 0. 0. 0. 0. 0. 0. 0. 0. 0. 0. 0. 0. 0. 1. 0. 0.\n",
      " 0. 0. 0. 0. 0. 0. 0. 0. 0. 1. 0. 0. 0. 0. 0. 0. 0. 0. 0. 0. 0. 0. 0. 0.\n",
      " 0. 0. 0. 0. 0. 0. 0. 0. 0. 0. 0. 0. 0. 0. 0. 0. 0. 0. 0. 0. 0. 0. 0. 0.\n",
      " 0. 0. 0. 0. 0. 0. 0. 0. 0. 0. 0. 0. 0. 0. 0. 0. 0. 0. 0. 0. 0. 0. 0. 0.\n",
      " 0. 0. 0. 0. 0. 0. 0. 0. 0. 0. 0. 0. 0. 0. 0. 0. 0. 0. 0. 0. 0. 0. 0. 0.\n",
      " 0. 0. 0. 0. 0. 0. 0. 0. 0. 1. 1. 0. 0. 1.], y_pred = [205 205 205 205 205 205 205 205 205 205], t = [205 205 205   0 205 205 205 205 205 205]\n",
      "Evaluating...\n",
      "Evaluation result:  {'main/loss': 0.0638949653402166, 'main/accuracy': 0.9800711219487752}\n"
     ]
    }
   ],
   "source": [
    "# predict.main(\"-m rsgcn -i rscgn_output_PKR -g 0 --data-name PKR --load-modelname rscgn_output_PKR/model_epoch-79\")\n",
    "\n",
    "datasets = ['CN']#['PKR', 'Negishi']\n",
    "for dataset in datasets:\n",
    "    best_epoch = get_best_epoch(output_name + dataset)\n",
    "    predict.main(\"-m {} -i {} -g 0 --data-name {} --load-modelname {}/model_epoch-{}\".format(\n",
    "        model_name, output_name + dataset, dataset, output_name + dataset, best_epoch\n",
    "    ).split())"
   ]
  },
  {
   "cell_type": "code",
   "execution_count": null,
   "metadata": {},
   "outputs": [],
   "source": [
    "pred = pickle.load(open(output_name + \"suzuki/pred.pkl\", \"rb\")) \n",
    "gt = pickle.load(open(output_name + \"suzuki/gt.pkl\", \"rb\"))\n",
    "test_ids = json.load(open(output_name + \"suzuki/test_ids.json\", \"r\"))\n",
    "\n",
    "num_class = 119"
   ]
  },
  {
   "cell_type": "code",
   "execution_count": 9,
   "metadata": {},
   "outputs": [],
   "source": [
    "# load data\n",
    "test_data = pd.read_csv('data/suzuki_type_test_v2.csv', delimiter=';')"
   ]
  },
  {
   "cell_type": "code",
   "execution_count": 15,
   "metadata": {},
   "outputs": [],
   "source": [
    "reagent_dict = dict()\n",
    "num_dicts = {'M': 28, 'L': 23, 'B': 35, 'S': 10, 'A': 17}\n",
    "unique_i = 0\n",
    "boundaries = []\n",
    "for key, num_r in num_dicts.items():\n",
    "    for ii in range(num_r):\n",
    "        reagent_dict[key+str(ii+1)] = unique_i\n",
    "        unique_i += 1\n",
    "    boundaries.append(unique_i)\n",
    "null_ids = [114, 115, 116, 117, 118]\n",
    "other_id = 113"
   ]
  },
  {
   "cell_type": "code",
   "execution_count": 16,
   "metadata": {},
   "outputs": [],
   "source": [
    "# Metric: pick top-1/5 reagents from each categorized reagent\n",
    "predictions = []\n",
    "\n",
    "num_ranks = 5\n",
    "\n",
    "for i in range(len(gt)):\n",
    "    i_id = int(test_ids[str(i)][1:-2])\n",
    "    i_pred = {'id': i_id}\n",
    "    \n",
    "    gt_idx = {'M': [], 'L': [], 'B': [], 'S': [], 'A': [], 'other': []}\n",
    "    pred_rank = {'M': [], 'L': [], 'B': [], 'S': [], 'A': [], 'other': []}\n",
    "\n",
    "    ids = np.where(gt[i][0] == 1)[0]\n",
    "    \n",
    "    Ms = ids[(ids < boundaries[0]) | (ids == null_ids[0])]\n",
    "    Ls = ids[(boundaries[0] <= ids) & (ids < boundaries[1]) | (ids == null_ids[1])]\n",
    "    Bs = ids[(boundaries[1] <= ids) & (ids < boundaries[2]) | (ids == null_ids[2])]\n",
    "    Ss = ids[(boundaries[2] <= ids) & (ids < boundaries[3]) | (ids == null_ids[3])]\n",
    "    As = ids[(boundaries[3] <= ids) & (ids < boundaries[4]) | (ids == null_ids[4])]\n",
    "    other = ids[(ids == other_id)]\n",
    "    \n",
    "    gt_idx['M'] = [x for x in Ms]\n",
    "    gt_idx['L'] = [x for x in Ls]\n",
    "    gt_idx['B'] = [x for x in Bs]\n",
    "    gt_idx['S'] = [x for x in Ss]\n",
    "    gt_idx['A'] = [x for x in As]\n",
    "    \n",
    "    gt_idx['M'] = [x + 1 if x != null_ids[0] else num_dicts['M']+1 for x in gt_idx['M']]\n",
    "    gt_idx['L'] = [x + 1-boundaries[0] if x != null_ids[1] else num_dicts['L']+1 for x in gt_idx['L']]\n",
    "    gt_idx['B'] = [x + 1-boundaries[1] if x != null_ids[2] else num_dicts['B']+1 for x in gt_idx['B']]\n",
    "    gt_idx['S'] = [x + 1-boundaries[2] if x != null_ids[3] else num_dicts['S']+1 for x in gt_idx['S']]\n",
    "    gt_idx['A'] = [x + 1-boundaries[3] if x != null_ids[4] else num_dicts['A']+1 for x in gt_idx['A']]\n",
    "    \n",
    "    gt_idx['other'] = [x for x in other]\n",
    "        \n",
    "    pred_Ms = pred[i][:boundaries[0]]\n",
    "    pred_Ms = np.append(pred_Ms, pred[i][null_ids[0]])\n",
    "    pred_Ls = pred[i][boundaries[0]:boundaries[1]]\n",
    "    pred_Ls = np.append(pred_Ls, pred[i][null_ids[1]])\n",
    "    pred_Bs = pred[i][boundaries[1]:boundaries[2]]\n",
    "    pred_Bs = np.append(pred_Bs, pred[i][null_ids[2]])\n",
    "    pred_Ss = pred[i][boundaries[2]:boundaries[3]]\n",
    "    pred_Ss = np.append(pred_Ss, pred[i][null_ids[3]])\n",
    "    pred_As = pred[i][boundaries[3]:boundaries[4]]\n",
    "    pred_As = np.append(pred_As, pred[i][null_ids[4]])\n",
    "    \n",
    "    pred_rank['M'] = np.argsort(pred_Ms)[-num_ranks:][::-1]\n",
    "    pred_rank['L'] = np.argsort(pred_Ls)[-num_ranks:][::-1] + boundaries[0]\n",
    "    pred_rank['B'] = np.argsort(pred_Bs)[-num_ranks:][::-1] + boundaries[1]\n",
    "    pred_rank['S'] = np.argsort(pred_Ss)[-num_ranks:][::-1] + boundaries[2]\n",
    "    pred_rank['A'] = np.argsort(pred_As)[-num_ranks:][::-1] + boundaries[3]\n",
    "    \n",
    "    # Null class.............\n",
    "    if boundaries[0] in pred_rank['M']:\n",
    "        pred_rank['M'] = [null_ids[0] if x == boundaries[0] else x for x in pred_rank['M']]\n",
    "    \n",
    "    if boundaries[1] in pred_rank['L']:\n",
    "        pred_rank['L'] = [null_ids[1] if x == boundaries[1] else x for x in pred_rank['L']]\n",
    "    \n",
    "    if boundaries[2] in pred_rank['B']:\n",
    "        pred_rank['B'] = [null_ids[2] if x == boundaries[2] else x for x in pred_rank['B']]\n",
    "    \n",
    "    if boundaries[3] in pred_rank['S']:\n",
    "        pred_rank['S'] = [null_ids[3] if x == boundaries[3] else x for x in pred_rank['S']]\n",
    "        \n",
    "    if boundaries[4] in pred_rank['A']:\n",
    "        pred_rank['A'] = [null_ids[4] if x == boundaries[4] else x for x in pred_rank['A']]\n",
    "        \n",
    "    pred_rank['M'] = [x + 1 if x != null_ids[0] else num_dicts['M']+1 for x in pred_rank['M']]\n",
    "    pred_rank['L'] = [x + 1-boundaries[0] if x != null_ids[1] else num_dicts['L']+1 for x in pred_rank['L']]\n",
    "    pred_rank['B'] = [x + 1-boundaries[1] if x != null_ids[2] else num_dicts['B']+1 for x in pred_rank['B']]\n",
    "    pred_rank['S'] = [x + 1-boundaries[2] if x != null_ids[3] else num_dicts['S']+1 for x in pred_rank['S']]\n",
    "    pred_rank['A'] = [x + 1-boundaries[3] if x != null_ids[4] else num_dicts['A']+1 for x in pred_rank['A']]\n",
    "        \n",
    "    # Other class needs thresholding\n",
    "    other_score = pred[i][other_id]\n",
    "    pred_rank['other'] = []\n",
    "    if other_score > -5:\n",
    "        pred_rank['other'].append(other_id)\n",
    "        \n",
    "    i_pred['pred'] = pred_rank\n",
    "    i_pred['gt'] = gt_idx\n",
    "    \n",
    "    predictions.append(i_pred)"
   ]
  },
  {
   "cell_type": "code",
   "execution_count": 17,
   "metadata": {},
   "outputs": [],
   "source": [
    "def myconverter(obj):\n",
    "    if isinstance(obj, np.integer):\n",
    "        return int(obj)\n",
    "    elif isinstance(obj, np.floating):\n",
    "        return float(obj)\n",
    "    elif isinstance(obj, np.ndarray):\n",
    "        return obj.tolist()\n",
    "    elif isinstance(obj, datetime.datetime):\n",
    "        return obj.__str__()\n",
    "\n",
    "with open(model_name + \"_suzuki_prediction.json\", \"w\") as write_file:\n",
    "    json.dump(predictions, write_file, default=myconverter)"
   ]
  },
  {
   "cell_type": "code",
   "execution_count": null,
   "metadata": {},
   "outputs": [],
   "source": []
  },
  {
   "cell_type": "markdown",
   "metadata": {},
   "source": [
    "# CN Coupling"
   ]
  },
  {
   "cell_type": "code",
   "execution_count": 38,
   "metadata": {},
   "outputs": [],
   "source": [
    "# Load prediction\n",
    "pred = pickle.load(open(output_name + \"CN/pred.pkl\", \"rb\"))  # Using 70%~ data\n",
    "gt = pickle.load(open(output_name + \"CN/gt.pkl\", \"rb\"))\n",
    "test_ids = json.load(open(output_name + \"CN/test_ids.json\", \"r\"))\n",
    "\n",
    "num_class = 206"
   ]
  },
  {
   "cell_type": "code",
   "execution_count": 39,
   "metadata": {},
   "outputs": [],
   "source": [
    "# load data\n",
    "test_data = pd.read_csv('data/CN_coupling_test.csv', delimiter=';')"
   ]
  },
  {
   "cell_type": "code",
   "execution_count": 40,
   "metadata": {},
   "outputs": [],
   "source": [
    "num_dicts = {'M': 44, 'L': 47, 'B': 13, 'S': 22, 'A': 74} # A has nan -> 18\n",
    "boundaries = [44, 91, 104, 126, 200]\n",
    "null_ids = [201, 202, 203, 204, 205]\n",
    "other_id = 200"
   ]
  },
  {
   "cell_type": "code",
   "execution_count": 41,
   "metadata": {},
   "outputs": [],
   "source": [
    "# Metric: pick top-1/5 reagents from each categorized reagent\n",
    "predictions = []\n",
    "\n",
    "num_ranks = 5\n",
    "\n",
    "for i in range(len(gt)):\n",
    "    i_id = int(test_ids[str(i)][1:-2])\n",
    "    i_pred = {'id': i_id}\n",
    "    \n",
    "    gt_idx = {'M': [], 'L': [], 'B': [], 'S': [], 'A': [], 'other': []}\n",
    "    pred_rank = {'M': [], 'L': [], 'B': [], 'S': [], 'A': [], 'other': []}\n",
    "\n",
    "    ids = np.where(gt[i][0] == 1)[0]\n",
    "    \n",
    "    Ms = ids[(ids < boundaries[0]) | (ids == null_ids[0])]\n",
    "    Ls = ids[(boundaries[0] <= ids) & (ids < boundaries[1]) | (ids == null_ids[1])]\n",
    "    Bs = ids[(boundaries[1] <= ids) & (ids < boundaries[2]) | (ids == null_ids[2])]\n",
    "    Ss = ids[(boundaries[2] <= ids) & (ids < boundaries[3]) | (ids == null_ids[3])]\n",
    "    As = ids[(boundaries[3] <= ids) & (ids < boundaries[4]) | (ids == null_ids[4])]\n",
    "    other = ids[(ids == other_id)]\n",
    "    \n",
    "    gt_idx['M'] = [x for x in Ms]\n",
    "    gt_idx['L'] = [x for x in Ls]\n",
    "    gt_idx['B'] = [x for x in Bs]\n",
    "    gt_idx['S'] = [x for x in Ss]\n",
    "    gt_idx['A'] = [x for x in As]\n",
    "    \n",
    "    gt_idx['M'] = [x + 1 if x != null_ids[0] else num_dicts['M']+1 for x in gt_idx['M']]\n",
    "    gt_idx['L'] = [x + 1-boundaries[0] if x != null_ids[1] else num_dicts['L']+1 for x in gt_idx['L']]\n",
    "    gt_idx['B'] = [x + 1-boundaries[1] if x != null_ids[2] else num_dicts['B']+1 for x in gt_idx['B']]\n",
    "    gt_idx['S'] = [x + 1-boundaries[2] if x != null_ids[3] else num_dicts['S']+1 for x in gt_idx['S']]\n",
    "    gt_idx['A'] = [x + 1-boundaries[3] if x != null_ids[4] else num_dicts['A']+1 for x in gt_idx['A']]\n",
    "    \n",
    "    gt_idx['other'] = [x for x in other]\n",
    "        \n",
    "    pred_Ms = pred[i][:boundaries[0]]\n",
    "    pred_Ms = np.append(pred_Ms, pred[i][null_ids[0]])\n",
    "    pred_Ls = pred[i][boundaries[0]:boundaries[1]]\n",
    "    pred_Ls = np.append(pred_Ls, pred[i][null_ids[1]])\n",
    "    pred_Bs = pred[i][boundaries[1]:boundaries[2]]\n",
    "    pred_Bs = np.append(pred_Bs, pred[i][null_ids[2]])\n",
    "    pred_Ss = pred[i][boundaries[2]:boundaries[3]]\n",
    "    pred_Ss = np.append(pred_Ss, pred[i][null_ids[3]])\n",
    "    pred_As = pred[i][boundaries[3]:boundaries[4]]\n",
    "    pred_As = np.append(pred_As, pred[i][null_ids[4]])\n",
    "    \n",
    "    pred_rank['M'] = np.argsort(pred_Ms)[-num_ranks:][::-1]\n",
    "    pred_rank['L'] = np.argsort(pred_Ls)[-num_ranks:][::-1] + boundaries[0]\n",
    "    pred_rank['B'] = np.argsort(pred_Bs)[-num_ranks:][::-1] + boundaries[1]\n",
    "    pred_rank['S'] = np.argsort(pred_Ss)[-num_ranks:][::-1] + boundaries[2]\n",
    "    pred_rank['A'] = np.argsort(pred_As)[-num_ranks:][::-1] + boundaries[3]\n",
    "    \n",
    "    # Null class.............\n",
    "    if boundaries[0] in pred_rank['M']:\n",
    "        pred_rank['M'] = [null_ids[0] if x == boundaries[0] else x for x in pred_rank['M']]\n",
    "    \n",
    "    if boundaries[1] in pred_rank['L']:\n",
    "        pred_rank['L'] = [null_ids[1] if x == boundaries[1] else x for x in pred_rank['L']]\n",
    "    \n",
    "    if boundaries[2] in pred_rank['B']:\n",
    "        pred_rank['B'] = [null_ids[2] if x == boundaries[2] else x for x in pred_rank['B']]\n",
    "    \n",
    "    if boundaries[3] in pred_rank['S']:\n",
    "        pred_rank['S'] = [null_ids[3] if x == boundaries[3] else x for x in pred_rank['S']]\n",
    "        \n",
    "    if boundaries[4] in pred_rank['A']:\n",
    "        pred_rank['A'] = [null_ids[4] if x == boundaries[4] else x for x in pred_rank['A']]\n",
    "        \n",
    "    pred_rank['M'] = [x + 1 if x != null_ids[0] else num_dicts['M']+1 for x in pred_rank['M']]\n",
    "    pred_rank['L'] = [x + 1-boundaries[0] if x != null_ids[1] else num_dicts['L']+1 for x in pred_rank['L']]\n",
    "    pred_rank['B'] = [x + 1-boundaries[1] if x != null_ids[2] else num_dicts['B']+1 for x in pred_rank['B']]\n",
    "    pred_rank['S'] = [x + 1-boundaries[2] if x != null_ids[3] else num_dicts['S']+1 for x in pred_rank['S']]\n",
    "    pred_rank['A'] = [x + 1-boundaries[3] if x != null_ids[4] else num_dicts['A']+1 for x in pred_rank['A']]\n",
    "        \n",
    "    # Other class needs thresholding\n",
    "    other_score = pred[i][other_id]\n",
    "    pred_rank['other'] = []\n",
    "    if other_score > -5:\n",
    "        pred_rank['other'].append(other_id)\n",
    "        \n",
    "    i_pred['pred'] = pred_rank\n",
    "    i_pred['gt'] = gt_idx\n",
    "    \n",
    "    predictions.append(i_pred)"
   ]
  },
  {
   "cell_type": "code",
   "execution_count": 42,
   "metadata": {},
   "outputs": [],
   "source": [
    "def myconverter(obj):\n",
    "    if isinstance(obj, np.integer):\n",
    "        return int(obj)\n",
    "    elif isinstance(obj, np.floating):\n",
    "        return float(obj)\n",
    "    elif isinstance(obj, np.ndarray):\n",
    "        return obj.tolist()\n",
    "    elif isinstance(obj, datetime.datetime):\n",
    "        return obj.__str__()\n",
    "\n",
    "with open(model_name + \"_CN_prediction.json\", \"w\") as write_file:\n",
    "    json.dump(predictions, write_file, default=myconverter)"
   ]
  },
  {
   "cell_type": "code",
   "execution_count": null,
   "metadata": {},
   "outputs": [],
   "source": []
  },
  {
   "cell_type": "markdown",
   "metadata": {},
   "source": [
    "# Negishi"
   ]
  },
  {
   "cell_type": "code",
   "execution_count": 10,
   "metadata": {},
   "outputs": [],
   "source": [
    "# Load prediction\n",
    "pred = pickle.load(open(output_name + \"Negishi/pred.pkl\", \"rb\")) \n",
    "gt = pickle.load(open(output_name + \"Negishi/gt.pkl\", \"rb\"))\n",
    "test_ids = json.load(open(output_name + \"Negishi/test_ids.json\", \"r\"))\n",
    "\n",
    "num_class = 106"
   ]
  },
  {
   "cell_type": "code",
   "execution_count": 11,
   "metadata": {},
   "outputs": [],
   "source": [
    "# load data\n",
    "test_data = pd.read_csv('data/Negishi_test.csv', delimiter=';')"
   ]
  },
  {
   "cell_type": "code",
   "execution_count": 12,
   "metadata": {},
   "outputs": [],
   "source": [
    "num_dicts = {'M': 32, 'L': 20, 'T': 8, 'S': 10, 'A': 30}\n",
    "unique_i = 0\n",
    "boundaries = []\n",
    "for key, num_r in num_dicts.items():\n",
    "    for ii in range(num_r):\n",
    "        unique_i += 1\n",
    "    boundaries.append(unique_i)\n",
    "null_ids = [101, 102, 103, 104, 105]\n",
    "other_id = 100"
   ]
  },
  {
   "cell_type": "code",
   "execution_count": 13,
   "metadata": {},
   "outputs": [],
   "source": [
    "# Metric: pick top-1/5 reagents from each categorized reagent\n",
    "predictions = []\n",
    "\n",
    "num_ranks = 5\n",
    "\n",
    "for i in range(len(gt)):\n",
    "    i_id = int(test_ids[str(i)][1:-2])\n",
    "    i_pred = {'id': i_id}\n",
    "    \n",
    "    gt_idx = {'M': [], 'L': [], 'T': [], 'S': [], 'A': [], 'other': []}\n",
    "    pred_rank = {'M': [], 'L': [], 'T': [], 'S': [], 'A': [], 'other': []}\n",
    "\n",
    "    ids = np.where(gt[i][0] == 1)[0]\n",
    "    \n",
    "    Ms = ids[(ids < boundaries[0]) | (ids == null_ids[0])]\n",
    "    Ls = ids[(boundaries[0] <= ids) & (ids < boundaries[1]) | (ids == null_ids[1])]\n",
    "    Bs = ids[(boundaries[1] <= ids) & (ids < boundaries[2]) | (ids == null_ids[2])]\n",
    "    Ss = ids[(boundaries[2] <= ids) & (ids < boundaries[3]) | (ids == null_ids[3])]\n",
    "    As = ids[(boundaries[3] <= ids) & (ids < boundaries[4]) | (ids == null_ids[4])]\n",
    "    other = ids[(ids == other_id)]\n",
    "    \n",
    "    gt_idx['M'] = [x for x in Ms]\n",
    "    gt_idx['L'] = [x for x in Ls]\n",
    "    gt_idx['T'] = [x for x in Bs]\n",
    "    gt_idx['S'] = [x for x in Ss]\n",
    "    gt_idx['A'] = [x for x in As]\n",
    "    \n",
    "    gt_idx['M'] = [x + 1 if x != null_ids[0] else num_dicts['M']+1 for x in gt_idx['M']]\n",
    "    gt_idx['L'] = [x + 1-boundaries[0] if x != null_ids[1] else num_dicts['L']+1 for x in gt_idx['L']]\n",
    "    gt_idx['T'] = [x + 1-boundaries[1] if x != null_ids[2] else num_dicts['T']+1 for x in gt_idx['T']]\n",
    "    gt_idx['S'] = [x + 1-boundaries[2] if x != null_ids[3] else num_dicts['S']+1 for x in gt_idx['S']]\n",
    "    gt_idx['A'] = [x + 1-boundaries[3] if x != null_ids[4] else num_dicts['A']+1 for x in gt_idx['A']]\n",
    "    \n",
    "    gt_idx['other'] = [x for x in other]\n",
    "        \n",
    "    pred_Ms = pred[i][:boundaries[0]]\n",
    "    pred_Ms = np.append(pred_Ms, pred[i][null_ids[0]])\n",
    "    pred_Ls = pred[i][boundaries[0]:boundaries[1]]\n",
    "    pred_Ls = np.append(pred_Ls, pred[i][null_ids[1]])\n",
    "    pred_Bs = pred[i][boundaries[1]:boundaries[2]]\n",
    "    pred_Bs = np.append(pred_Bs, pred[i][null_ids[2]])\n",
    "    pred_Ss = pred[i][boundaries[2]:boundaries[3]]\n",
    "    pred_Ss = np.append(pred_Ss, pred[i][null_ids[3]])\n",
    "    pred_As = pred[i][boundaries[3]:boundaries[4]]\n",
    "    pred_As = np.append(pred_As, pred[i][null_ids[4]])\n",
    "    \n",
    "    pred_rank['M'] = np.argsort(pred_Ms)[-num_ranks:][::-1]\n",
    "    pred_rank['L'] = np.argsort(pred_Ls)[-num_ranks:][::-1] + boundaries[0]\n",
    "    pred_rank['T'] = np.argsort(pred_Bs)[-num_ranks:][::-1] + boundaries[1]\n",
    "    pred_rank['S'] = np.argsort(pred_Ss)[-num_ranks:][::-1] + boundaries[2]\n",
    "    pred_rank['A'] = np.argsort(pred_As)[-num_ranks:][::-1] + boundaries[3]\n",
    "    \n",
    "    # Null class.............\n",
    "    if boundaries[0] in pred_rank['M']:\n",
    "        pred_rank['M'] = [null_ids[0] if x == boundaries[0] else x for x in pred_rank['M']]\n",
    "    \n",
    "    if boundaries[1] in pred_rank['L']:\n",
    "        pred_rank['L'] = [null_ids[1] if x == boundaries[1] else x for x in pred_rank['L']]\n",
    "    \n",
    "    if boundaries[2] in pred_rank['T']:\n",
    "        pred_rank['T'] = [null_ids[2] if x == boundaries[2] else x for x in pred_rank['T']]\n",
    "    \n",
    "    if boundaries[3] in pred_rank['S']:\n",
    "        pred_rank['S'] = [null_ids[3] if x == boundaries[3] else x for x in pred_rank['S']]\n",
    "        \n",
    "    if boundaries[4] in pred_rank['A']:\n",
    "        pred_rank['A'] = [null_ids[4] if x == boundaries[4] else x for x in pred_rank['A']]\n",
    "        \n",
    "    pred_rank['M'] = [x + 1 if x != null_ids[0] else num_dicts['M']+1 for x in pred_rank['M']]\n",
    "    pred_rank['L'] = [x + 1-boundaries[0] if x != null_ids[1] else num_dicts['L']+1 for x in pred_rank['L']]\n",
    "    pred_rank['T'] = [x + 1-boundaries[1] if x != null_ids[2] else num_dicts['T']+1 for x in pred_rank['T']]\n",
    "    pred_rank['S'] = [x + 1-boundaries[2] if x != null_ids[3] else num_dicts['S']+1 for x in pred_rank['S']]\n",
    "    pred_rank['A'] = [x + 1-boundaries[3] if x != null_ids[4] else num_dicts['A']+1 for x in pred_rank['A']]\n",
    "        \n",
    "    # Other class needs thresholding\n",
    "    other_score = pred[i][other_id]\n",
    "    pred_rank['other'] = []\n",
    "    if other_score > -5:\n",
    "        pred_rank['other'].append(other_id)\n",
    "        \n",
    "    i_pred['pred'] = pred_rank\n",
    "    i_pred['gt'] = gt_idx\n",
    "    \n",
    "    predictions.append(i_pred)"
   ]
  },
  {
   "cell_type": "code",
   "execution_count": 14,
   "metadata": {},
   "outputs": [],
   "source": [
    "def myconverter(obj):\n",
    "    if isinstance(obj, np.integer):\n",
    "        return int(obj)\n",
    "    elif isinstance(obj, np.floating):\n",
    "        return float(obj)\n",
    "    elif isinstance(obj, np.ndarray):\n",
    "        return obj.tolist()\n",
    "    elif isinstance(obj, datetime.datetime):\n",
    "        return obj.__str__()\n",
    "\n",
    "with open(model_name + \"_negishi_prediction.json\", \"w\") as write_file:\n",
    "    json.dump(predictions, write_file, default=myconverter)"
   ]
  },
  {
   "cell_type": "code",
   "execution_count": null,
   "metadata": {},
   "outputs": [],
   "source": []
  },
  {
   "cell_type": "markdown",
   "metadata": {},
   "source": [
    "# PKR"
   ]
  },
  {
   "cell_type": "code",
   "execution_count": 27,
   "metadata": {},
   "outputs": [],
   "source": [
    "# Load prediction\n",
    "pred = pickle.load(open(output_name + \"PKR/pred.pkl\", \"rb\")) \n",
    "gt = pickle.load(open(output_name + \"PKR/gt.pkl\", \"rb\"))\n",
    "test_ids = json.load(open(output_name + \"PKR/test_ids.json\", \"r\"))\n",
    "\n",
    "num_class = 83"
   ]
  },
  {
   "cell_type": "code",
   "execution_count": 28,
   "metadata": {},
   "outputs": [],
   "source": [
    "# load data\n",
    "test_data = pd.read_csv('data/PKR_test.csv', delimiter=';')"
   ]
  },
  {
   "cell_type": "code",
   "execution_count": 29,
   "metadata": {},
   "outputs": [],
   "source": [
    "num_dicts = {'M': 18, 'L': 6, 'T': 7, 'S': 15, 'A': 11, 'G': 1, 'O': 13, 'P': 4}\n",
    "unique_i = 0\n",
    "boundaries = []\n",
    "for key, num_r in num_dicts.items():\n",
    "    for ii in range(num_r):\n",
    "        unique_i += 1\n",
    "    boundaries.append(unique_i)\n",
    "null_ids = [76, 77, 78, 79, 80, 81, 82]\n",
    "other_id = 75"
   ]
  },
  {
   "cell_type": "code",
   "execution_count": 30,
   "metadata": {},
   "outputs": [],
   "source": [
    "# Metric: pick top-1/5 reagents from each categorized reagent\n",
    "predictions = []\n",
    "\n",
    "num_ranks = 5\n",
    "\n",
    "for i in range(len(gt)):\n",
    "    i_id = int(test_ids[str(i)][1:-2])\n",
    "    i_pred = {'id': i_id}\n",
    "    \n",
    "    # gt_idx = {'M': [], 'L': [], 'T': [], 'S': [], 'A': [], 'other': []}\n",
    "    # pred_rank = {'M': [], 'L': [], 'T': [], 'S': [], 'A': [], 'other': []}\n",
    "    gt_idx = {}\n",
    "    pred_rank = {}\n",
    "    \n",
    "    ids = np.where(gt[i][0] == 1)[0]\n",
    "    \n",
    "    Ms = ids[(ids < boundaries[0]) | (ids == null_ids[0])]\n",
    "    Ls = ids[(boundaries[0] <= ids) & (ids < boundaries[1]) | (ids == null_ids[1])]\n",
    "    Bs = ids[(boundaries[1] <= ids) & (ids < boundaries[2]) | (ids == null_ids[2])]\n",
    "    Ss = ids[(boundaries[2] <= ids) & (ids < boundaries[3]) | (ids == null_ids[3])]\n",
    "    As = ids[(boundaries[3] <= ids) & (ids < boundaries[4]) | (ids == null_ids[4])]\n",
    "    Gs = ids[(boundaries[4] <= ids) & (ids < boundaries[5])]\n",
    "    Os = ids[(boundaries[5] <= ids) & (ids < boundaries[6]) | (ids == null_ids[5])]\n",
    "    Ps = ids[(boundaries[6] <= ids) & (ids < boundaries[7]) | (ids == null_ids[6])]\n",
    "    other = ids[(ids == other_id)]\n",
    "    \n",
    "    gt_idx['M'] = [x for x in Ms]\n",
    "    gt_idx['L'] = [x for x in Ls]\n",
    "    gt_idx['T'] = [x for x in Bs]\n",
    "    gt_idx['S'] = [x for x in Ss]\n",
    "    gt_idx['A'] = [x for x in As]\n",
    "    gt_idx['G'] = [x for x in Gs]\n",
    "    gt_idx['O'] = [x for x in Os]\n",
    "    gt_idx['P'] = [x for x in Ps]\n",
    "    \n",
    "    gt_idx['M'] = [x + 1 if x != null_ids[0] else num_dicts['M']+1 for x in gt_idx['M']]\n",
    "    gt_idx['L'] = [x + 1-boundaries[0] if x != null_ids[1] else num_dicts['L']+1 for x in gt_idx['L']]\n",
    "    gt_idx['T'] = [x + 1-boundaries[1] if x != null_ids[2] else num_dicts['T']+1 for x in gt_idx['T']]\n",
    "    gt_idx['S'] = [x + 1-boundaries[2] if x != null_ids[3] else num_dicts['S']+1 for x in gt_idx['S']]\n",
    "    gt_idx['A'] = [x + 1-boundaries[3] if x != null_ids[4] else num_dicts['A']+1 for x in gt_idx['A']]\n",
    "    gt_idx['G'] = [x + 1-boundaries[4] for x in gt_idx['G']]\n",
    "    gt_idx['O'] = [x + 1-boundaries[5] if x != null_ids[5] else num_dicts['O']+1 for x in gt_idx['O']]\n",
    "    gt_idx['P'] = [x + 1-boundaries[6] if x != null_ids[6] else num_dicts['P']+1 for x in gt_idx['P']]\n",
    "    \n",
    "    gt_idx['other'] = [x for x in other]\n",
    "        \n",
    "    pred_Ms = pred[i][:boundaries[0]]\n",
    "    pred_Ms = np.append(pred_Ms, pred[i][null_ids[0]])\n",
    "    pred_Ls = pred[i][boundaries[0]:boundaries[1]]\n",
    "    pred_Ls = np.append(pred_Ls, pred[i][null_ids[1]])\n",
    "    pred_Bs = pred[i][boundaries[1]:boundaries[2]]\n",
    "    pred_Bs = np.append(pred_Bs, pred[i][null_ids[2]])\n",
    "    pred_Ss = pred[i][boundaries[2]:boundaries[3]]\n",
    "    pred_Ss = np.append(pred_Ss, pred[i][null_ids[3]])\n",
    "    pred_As = pred[i][boundaries[3]:boundaries[4]]\n",
    "    pred_As = np.append(pred_As, pred[i][null_ids[4]])\n",
    "    pred_Gs = pred[i][boundaries[4]:boundaries[5]]\n",
    "    pred_Os = pred[i][boundaries[5]:boundaries[6]]\n",
    "    pred_Os = np.append(pred_Os, pred[i][null_ids[5]])\n",
    "    pred_Ps = pred[i][boundaries[6]:boundaries[7]]\n",
    "    pred_Ps = np.append(pred_Ps, pred[i][null_ids[6]])\n",
    "    \n",
    "    \n",
    "    pred_rank['M'] = np.argsort(pred_Ms)[-num_ranks:][::-1]\n",
    "    pred_rank['L'] = np.argsort(pred_Ls)[-num_ranks:][::-1] + boundaries[0]\n",
    "    pred_rank['T'] = np.argsort(pred_Bs)[-num_ranks:][::-1] + boundaries[1]\n",
    "    pred_rank['S'] = np.argsort(pred_Ss)[-num_ranks:][::-1] + boundaries[2]\n",
    "    pred_rank['A'] = np.argsort(pred_As)[-num_ranks:][::-1] + boundaries[3]\n",
    "    pred_rank['G'] = pred_Gs\n",
    "    pred_rank['O'] = np.argsort(pred_Os)[-num_ranks:][::-1] + boundaries[5]\n",
    "    pred_rank['P'] = np.argsort(pred_Ps)[-4:][::-1] + boundaries[6]\n",
    "    \n",
    "    # Null class.............\n",
    "    if boundaries[0] in pred_rank['M']:\n",
    "        pred_rank['M'] = [null_ids[0] if x == boundaries[0] else x for x in pred_rank['M']]\n",
    "    \n",
    "    if boundaries[1] in pred_rank['L']:\n",
    "        pred_rank['L'] = [null_ids[1] if x == boundaries[1] else x for x in pred_rank['L']]\n",
    "    \n",
    "    if boundaries[2] in pred_rank['T']:\n",
    "        pred_rank['T'] = [null_ids[2] if x == boundaries[2] else x for x in pred_rank['T']]\n",
    "    \n",
    "    if boundaries[3] in pred_rank['S']:\n",
    "        pred_rank['S'] = [null_ids[3] if x == boundaries[3] else x for x in pred_rank['S']]\n",
    "        \n",
    "    if boundaries[4] in pred_rank['A']:\n",
    "        pred_rank['A'] = [null_ids[4] if x == boundaries[4] else x for x in pred_rank['A']]\n",
    "        \n",
    "    if boundaries[6] in pred_rank['O']:\n",
    "        pred_rank['O'] = [null_ids[5] if x == boundaries[6] else x for x in pred_rank['O']]\n",
    "\n",
    "    if boundaries[7] in pred_rank['O']:\n",
    "        pred_rank['P'] = [null_ids[6] if x == boundaries[7] else x for x in pred_rank['P']]\n",
    "        \n",
    "    pred_rank['M'] = [x + 1 if x != null_ids[0] else num_dicts['M']+1 for x in pred_rank['M']]\n",
    "    pred_rank['L'] = [x + 1-boundaries[0] if x != null_ids[1] else num_dicts['L']+1 for x in pred_rank['L']]\n",
    "    pred_rank['T'] = [x + 1-boundaries[1] if x != null_ids[2] else num_dicts['T']+1 for x in pred_rank['T']]\n",
    "    pred_rank['S'] = [x + 1-boundaries[2] if x != null_ids[3] else num_dicts['S']+1 for x in pred_rank['S']]\n",
    "    pred_rank['A'] = [x + 1-boundaries[3] if x != null_ids[4] else num_dicts['A']+1 for x in pred_rank['A']]\n",
    "    pred_rank['O'] = [x + 1-boundaries[5] if x != null_ids[5] else num_dicts['O']+1 for x in pred_rank['O']]\n",
    "    pred_rank['P'] = [x + 1-boundaries[6] if x != null_ids[6] else num_dicts['P']+1 for x in pred_rank['P']]\n",
    "        \n",
    "    # gas class\n",
    "    if pred_rank['G'] > 0:\n",
    "        pred_rank['G'] = [1]\n",
    "    else:\n",
    "        pred_rank['G'] = []\n",
    "        \n",
    "    # Other class needs thresholding\n",
    "    other_score = pred[i][other_id]\n",
    "    pred_rank['other'] = []\n",
    "    if other_score > 0:\n",
    "        pred_rank['other'].append(other_id)\n",
    "        \n",
    "    i_pred['pred'] = pred_rank\n",
    "    i_pred['gt'] = gt_idx\n",
    "    \n",
    "    predictions.append(i_pred)"
   ]
  },
  {
   "cell_type": "code",
   "execution_count": 31,
   "metadata": {},
   "outputs": [],
   "source": [
    "def myconverter(obj):\n",
    "    if isinstance(obj, np.integer):\n",
    "        return int(obj)\n",
    "    elif isinstance(obj, np.floating):\n",
    "        return float(obj)\n",
    "    elif isinstance(obj, np.ndarray):\n",
    "        return obj.tolist()\n",
    "    elif isinstance(obj, datetime.datetime):\n",
    "        return obj.__str__()\n",
    "\n",
    "with open(model_name + \"_PKR_prediction.json\", \"w\") as write_file:\n",
    "    json.dump(predictions, write_file, default=myconverter)"
   ]
  },
  {
   "cell_type": "code",
   "execution_count": 32,
   "metadata": {},
   "outputs": [],
   "source": [
    "from evaluate import accuracy, compute_PR"
   ]
  },
  {
   "cell_type": "code",
   "execution_count": 35,
   "metadata": {},
   "outputs": [
    {
     "name": "stdout",
     "output_type": "stream",
     "text": [
      "Top 1 accuracy for dict_keys(['M', 'L', 'B', 'S', 'A'])\n",
      "0.4891274238227147\n",
      "0.8770083102493075\n",
      "0.4166897506925208\n",
      "0.6505540166204986\n",
      "0.9524238227146814\n",
      "Top k accuracy for dict_keys(['M', 'L', 'B', 'S', 'A'])\n",
      "0.779224376731302\n",
      "0.9474376731301939\n",
      "0.7603185595567867\n",
      "0.8264542936288088\n",
      "0.9883656509695291\n"
     ]
    }
   ],
   "source": [
    "data_file = json.load(open(model_name+ \"_suzuki_prediction.json\", \"r\"))\n",
    "# type_count = {'M': 45, 'L': 48, 'B': 14, 'S': 23, 'A': 75}   # CN\n",
    "type_count = {'M': 29, 'L': 24, 'B': 36, 'S': 11, 'A': 18}  # suzuki\n",
    "# type_count = {'M': 33, 'L': 21, 'T': 9, 'S': 11, 'A': 31} # neigishi\n",
    "# type_count = {'M': 19, 'L': 7, 'T': 8, 'S': 16, 'A': 12, 'G': 1, 'O': 14, 'P': 5} # PKR\n",
    "top1_acc, topk_acc = accuracy(data_file, type_count, formatted_print=True)\n",
    "\n",
    "result = compute_PR(data_file, type_count)"
   ]
  },
  {
   "cell_type": "code",
   "execution_count": 43,
   "metadata": {},
   "outputs": [
    {
     "name": "stdout",
     "output_type": "stream",
     "text": [
      "Top 1 accuracy for dict_keys(['M', 'L', 'B', 'S', 'A'])\n",
      "0.3304109589041096\n",
      "0.5197260273972603\n",
      "0.32273972602739726\n",
      "0.33452054794520547\n",
      "0.8904109589041096\n",
      "Top k accuracy for dict_keys(['M', 'L', 'B', 'S', 'A'])\n",
      "0.6794520547945205\n",
      "0.6934246575342465\n",
      "0.6827397260273973\n",
      "0.5884931506849315\n",
      "0.915068493150685\n"
     ]
    }
   ],
   "source": [
    "data_file = json.load(open(model_name+ \"_CN_prediction.json\", \"r\"))\n",
    "type_count = {'M': 45, 'L': 48, 'B': 14, 'S': 23, 'A': 75}   # CN\n",
    "# type_count = {'M': 29, 'L': 24, 'B': 36, 'S': 11, 'A': 18}  # suzuki\n",
    "# type_count = {'M': 33, 'L': 21, 'T': 9, 'S': 11, 'A': 31} # neigishi\n",
    "# type_count = {'M': 19, 'L': 7, 'T': 8, 'S': 16, 'A': 12, 'G': 1, 'O': 14, 'P': 5} # PKR\n",
    "top1_acc, topk_acc = accuracy(data_file, type_count, formatted_print=True)\n",
    "\n",
    "result = compute_PR(data_file, type_count)"
   ]
  },
  {
   "cell_type": "code",
   "execution_count": 21,
   "metadata": {},
   "outputs": [
    {
     "name": "stdout",
     "output_type": "stream",
     "text": [
      "Top 1 accuracy for dict_keys(['M', 'L', 'T', 'S', 'A'])\n",
      "0.2886762360446571\n",
      "0.7878787878787878\n",
      "0.37320574162679426\n",
      "0.8149920255183413\n",
      "0.8309409888357256\n",
      "Top k accuracy for dict_keys(['M', 'L', 'T', 'S', 'A'])\n",
      "0.507177033492823\n",
      "0.8724082934609251\n",
      "0.6618819776714514\n",
      "0.8851674641148325\n",
      "0.9122807017543859\n"
     ]
    }
   ],
   "source": [
    "data_file = json.load(open(model_name+ \"_negishi_prediction.json\", \"r\"))\n",
    "# type_count = {'M': 45, 'L': 48, 'B': 14, 'S': 23, 'A': 75}   # CN\n",
    "# type_count = {'M': 29, 'L': 24, 'B': 36, 'S': 11, 'A': 18}  # suzuki\n",
    "type_count = {'M': 33, 'L': 21, 'T': 9, 'S': 11, 'A': 31} # neigishi\n",
    "# type_count = {'M': 19, 'L': 7, 'T': 8, 'S': 16, 'A': 12, 'G': 1, 'O': 14, 'P': 5} # PKR\n",
    "top1_acc, topk_acc = accuracy(data_file, type_count, formatted_print=True)\n",
    "\n",
    "result = compute_PR(data_file, type_count)"
   ]
  },
  {
   "cell_type": "code",
   "execution_count": 33,
   "metadata": {},
   "outputs": [
    {
     "name": "stdout",
     "output_type": "stream",
     "text": [
      "Top 1 accuracy for dict_keys(['M', 'L', 'T', 'S', 'A', 'G', 'O', 'P'])\n",
      "0.7018867924528301\n",
      "0.9132075471698113\n",
      "0.6113207547169811\n",
      "0.6679245283018868\n",
      "0.7811320754716982\n",
      "0.8566037735849057\n",
      "0.9018867924528302\n",
      "0.8754716981132076\n",
      "Top k accuracy for dict_keys(['M', 'L', 'T', 'S', 'A', 'G', 'O', 'P'])\n",
      "0.9207547169811321\n",
      "0.9924528301886792\n",
      "0.8754716981132076\n",
      "0.879245283018868\n",
      "0.9773584905660377\n",
      "1.0\n",
      "0.9735849056603774\n",
      "0.9811320754716981\n"
     ]
    }
   ],
   "source": [
    "data_file = json.load(open(model_name+ \"_PKR_prediction.json\", \"r\"))\n",
    "# type_count = {'M': 45, 'L': 48, 'B': 14, 'S': 23, 'A': 75}   # CN\n",
    "# type_count = {'M': 29, 'L': 24, 'B': 36, 'S': 11, 'A': 18}  # suzuki\n",
    "# type_count = {'M': 33, 'L': 21, 'T': 9, 'S': 11, 'A': 31} # neigishi\n",
    "type_count = {'M': 19, 'L': 7, 'T': 8, 'S': 16, 'A': 12, 'G': 1, 'O': 14, 'P': 5} # PKR\n",
    "top1_acc, topk_acc = accuracy(data_file, type_count, formatted_print=True)\n",
    "\n",
    "result = compute_PR(data_file, type_count)"
   ]
  },
  {
   "cell_type": "code",
   "execution_count": 7,
   "metadata": {},
   "outputs": [
    {
     "data": {
      "image/png": "[encoded data removed]",
      "text/plain": [
       "<Figure size 432x288 with 1 Axes>"
      ]
     },
     "metadata": {
      "needs_background": "light"
     },
     "output_type": "display_data"
    }
   ],
   "source": [
    "# Metal\n",
    "ax = plt.subplot(111)\n",
    "x_range = [i-0.2 for i in range(0, len(result[0][0].keys()))]\n",
    "x_range2 = [i+0.2 for i in range(0, len(result[1][0].keys()))]\n",
    "ax.bar(x_range, result[0][0].values(), width=0.4, color='b', align='center')\n",
    "# ax.bar(x, z, width=0.2, color='g', align='center')\n",
    "ax.bar(x_range2, result[1][0].values(), width=0.4, color='r', align='center')\n",
    "# ax.xaxis_date()\n",
    "ax.set_yscale('log')\n",
    "\n",
    "plt.legend(['top-1', 'top-3'])\n",
    "plt.title(\"Precision\")\n",
    "plt.show()"
   ]
  },
  {
   "cell_type": "code",
   "execution_count": null,
   "metadata": {},
   "outputs": [],
   "source": []
  }
 ],
 "metadata": {
  "kernelspec": {
   "display_name": "Environment (conda_chainer_p36)",
   "language": "python",
   "name": "conda_chainer_p36"
  },
  "language_info": {
   "codemirror_mode": {
    "name": "ipython",
    "version": 3
   },
   "file_extension": ".py",
   "mimetype": "text/x-python",
   "name": "python",
   "nbconvert_exporter": "python",
   "pygments_lexer": "ipython3",
   "version": "3.6.5"
  }
 },
 "nbformat": 4,
 "nbformat_minor": 2
}
